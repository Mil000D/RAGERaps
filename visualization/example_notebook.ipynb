{
 "cells": [
  {
   "cell_type": "markdown",
   "metadata": {},
   "source": [
    "# LangGraph Visualization Example\n",
    "\n",
    "This notebook demonstrates how to visualize LangGraph workflows directly in a Jupyter notebook."
   ]
  },
  {
   "cell_type": "code",
   "execution_count": null,
   "metadata": {},
   "source": [
    "# Import the necessary modules\n",
    "from IPython.display import Image, display\n",
    "from backend.app.agents.parallel_workflow import battle_round_graph"
   ]
  },
  {
   "cell_type": "markdown",
   "metadata": {},
   "source": [
    "## Display the Graph Directly\n",
    "\n",
    "You can display the graph directly in the notebook using the `draw_mermaid_png` method."
   ]
  },
  {
   "cell_type": "code",
   "execution_count": null,
   "metadata": {},
   "source": [
    "# Display the graph directly\n",
    "display(Image(battle_round_graph.get_graph().draw_mermaid_png()))"
   ]
  },
  {
   "cell_type": "markdown",
   "metadata": {},
   "source": [
    "## Customize the Visualization\n",
    "\n",
    "You can customize the visualization by specifying parameters like background color and padding."
   ]
  },
  {
   "cell_type": "code",
   "execution_count": null,
   "metadata": {},
   "source": [
    "from langchain_core.runnables.graph_mermaid import draw_mermaid_png, MermaidDrawMethod\n",
    "\n",
    "# Get the Mermaid syntax\n",
    "mermaid_syntax = battle_round_graph.get_graph().to_mermaid()\n",
    "\n",
    "# Generate a custom PNG\n",
    "custom_png = draw_mermaid_png(\n",
    "    mermaid_syntax=mermaid_syntax,\n",
    "    draw_method=MermaidDrawMethod.API,\n",
    "    background_color=\"lightblue\",\n",
    "    padding=20,\n",
    ")\n",
    "\n",
    "# Display the custom PNG\n",
    "display(Image(custom_png))"
   ]
  },
  {
   "cell_type": "markdown",
   "metadata": {},
   "source": [
    "## Save the Visualization\n",
    "\n",
    "You can also save the visualization to a file."
   ]
  },
  {
   "cell_type": "code",
   "execution_count": null,
   "metadata": {},
   "source": [
    "# Save the visualization to a file\n",
    "output_path = \"notebook_graph.png\"\n",
    "draw_mermaid_png(\n",
    "    mermaid_syntax=mermaid_syntax,\n",
    "    output_file_path=output_path,\n",
    "    draw_method=MermaidDrawMethod.API,\n",
    "    background_color=\"white\",\n",
    "    padding=10,\n",
    ")\n",
    "\n",
    "print(f\"Visualization saved to {output_path}\")"
   ]
  }
 ],
 "metadata": {
  "kernelspec": {
   "display_name": "Python 3",
   "language": "python",
   "name": "python3"
  },
  "language_info": {
   "codemirror_mode": {
    "name": "ipython",
    "version": 3
   },
   "file_extension": ".py",
   "mimetype": "text/x-python",
   "name": "python",
   "nbconvert_exporter": "python",
   "pygments_lexer": "ipython3",
   "version": "3.10.0"
  }
 },
 "nbformat": 4,
 "nbformat_minor": 4
}
